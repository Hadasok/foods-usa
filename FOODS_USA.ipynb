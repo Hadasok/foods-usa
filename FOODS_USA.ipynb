{
 "cells": [
  {
   "cell_type": "code",
   "execution_count": 1,
   "metadata": {},
   "outputs": [],
   "source": [
    "import json\n",
    "import numpy as np\n",
    "import pandas as pd\n",
    "import matplotlib.pyplot as plt\n"
   ]
  },
  {
   "cell_type": "markdown",
   "metadata": {},
   "source": [
    "## Loading Foods Dataset\n",
    "Loading the dataset and setting a new index."
   ]
  },
  {
   "cell_type": "code",
   "execution_count": 2,
   "metadata": {},
   "outputs": [
    {
     "data": {
      "text/html": [
       "<div>\n",
       "<style scoped>\n",
       "    .dataframe tbody tr th:only-of-type {\n",
       "        vertical-align: middle;\n",
       "    }\n",
       "\n",
       "    .dataframe tbody tr th {\n",
       "        vertical-align: top;\n",
       "    }\n",
       "\n",
       "    .dataframe thead th {\n",
       "        text-align: right;\n",
       "    }\n",
       "</style>\n",
       "<table border=\"1\" class=\"dataframe\">\n",
       "  <thead>\n",
       "    <tr style=\"text-align: right;\">\n",
       "      <th></th>\n",
       "      <th>group</th>\n",
       "      <th>manufacturer</th>\n",
       "    </tr>\n",
       "    <tr>\n",
       "      <th>NDB_No</th>\n",
       "      <th></th>\n",
       "      <th></th>\n",
       "    </tr>\n",
       "  </thead>\n",
       "  <tbody>\n",
       "    <tr>\n",
       "      <th>1008</th>\n",
       "      <td>Dairy and Egg Products</td>\n",
       "      <td></td>\n",
       "    </tr>\n",
       "    <tr>\n",
       "      <th>1009</th>\n",
       "      <td>Dairy and Egg Products</td>\n",
       "      <td></td>\n",
       "    </tr>\n",
       "    <tr>\n",
       "      <th>1018</th>\n",
       "      <td>Dairy and Egg Products</td>\n",
       "      <td></td>\n",
       "    </tr>\n",
       "    <tr>\n",
       "      <th>1019</th>\n",
       "      <td>Dairy and Egg Products</td>\n",
       "      <td></td>\n",
       "    </tr>\n",
       "    <tr>\n",
       "      <th>1028</th>\n",
       "      <td>Dairy and Egg Products</td>\n",
       "      <td></td>\n",
       "    </tr>\n",
       "  </tbody>\n",
       "</table>\n",
       "</div>"
      ],
      "text/plain": [
       "                         group manufacturer\n",
       "NDB_No                                     \n",
       "1008    Dairy and Egg Products             \n",
       "1009    Dairy and Egg Products             \n",
       "1018    Dairy and Egg Products             \n",
       "1019    Dairy and Egg Products             \n",
       "1028    Dairy and Egg Products             "
      ]
     },
     "execution_count": 2,
     "metadata": {},
     "output_type": "execute_result"
    }
   ],
   "source": [
    "db = json.load(open('foods-2011-10-03.json'))\n",
    "df_groups = pd.DataFrame(db, columns=  ['group', 'manufacturer', 'id'] )\n",
    "df_groups.set_index('id', inplace= True)\n",
    "df_groups.rename_axis( 'NDB_No', inplace = True)\n",
    "df_groups.head()                         \n",
    "                         "
   ]
  },
  {
   "cell_type": "markdown",
   "metadata": {},
   "source": [
    "# Joining 'USDA_Foods' data set\n",
    "### USDA  Foods data sets contains various nutrient information about food manufactured in the USA."
   ]
  },
  {
   "cell_type": "code",
   "execution_count": 3,
   "metadata": {},
   "outputs": [
    {
     "data": {
      "text/html": [
       "<div>\n",
       "<style scoped>\n",
       "    .dataframe tbody tr th:only-of-type {\n",
       "        vertical-align: middle;\n",
       "    }\n",
       "\n",
       "    .dataframe tbody tr th {\n",
       "        vertical-align: top;\n",
       "    }\n",
       "\n",
       "    .dataframe thead th {\n",
       "        text-align: right;\n",
       "    }\n",
       "</style>\n",
       "<table border=\"1\" class=\"dataframe\">\n",
       "  <thead>\n",
       "    <tr style=\"text-align: right;\">\n",
       "      <th></th>\n",
       "      <th>Shrt_Desc</th>\n",
       "      <th>Water_(g)</th>\n",
       "      <th>Energ_Kcal</th>\n",
       "      <th>Protein_(g)</th>\n",
       "      <th>Lipid_Tot_(g)</th>\n",
       "      <th>Ash_(g)</th>\n",
       "      <th>Carbohydrt_(g)</th>\n",
       "      <th>Fiber_TD_(g)</th>\n",
       "      <th>Sugar_Tot_(g)</th>\n",
       "      <th>Calcium_(mg)</th>\n",
       "      <th>...</th>\n",
       "      <th>Vit_K_(µg)</th>\n",
       "      <th>FA_Sat_(g)</th>\n",
       "      <th>FA_Mono_(g)</th>\n",
       "      <th>FA_Poly_(g)</th>\n",
       "      <th>Cholestrl_(mg)</th>\n",
       "      <th>GmWt_1</th>\n",
       "      <th>GmWt_Desc1</th>\n",
       "      <th>GmWt_2</th>\n",
       "      <th>GmWt_Desc2</th>\n",
       "      <th>Refuse_Pct</th>\n",
       "    </tr>\n",
       "    <tr>\n",
       "      <th>NDB_No</th>\n",
       "      <th></th>\n",
       "      <th></th>\n",
       "      <th></th>\n",
       "      <th></th>\n",
       "      <th></th>\n",
       "      <th></th>\n",
       "      <th></th>\n",
       "      <th></th>\n",
       "      <th></th>\n",
       "      <th></th>\n",
       "      <th></th>\n",
       "      <th></th>\n",
       "      <th></th>\n",
       "      <th></th>\n",
       "      <th></th>\n",
       "      <th></th>\n",
       "      <th></th>\n",
       "      <th></th>\n",
       "      <th></th>\n",
       "      <th></th>\n",
       "      <th></th>\n",
       "    </tr>\n",
       "  </thead>\n",
       "  <tbody>\n",
       "    <tr>\n",
       "      <th>1001</th>\n",
       "      <td>BUTTER,WITH SALT</td>\n",
       "      <td>15.87</td>\n",
       "      <td>717</td>\n",
       "      <td>0.85</td>\n",
       "      <td>81.11</td>\n",
       "      <td>2.11</td>\n",
       "      <td>0.06</td>\n",
       "      <td>0.0</td>\n",
       "      <td>0.06</td>\n",
       "      <td>24.0</td>\n",
       "      <td>...</td>\n",
       "      <td>7.0</td>\n",
       "      <td>51.368</td>\n",
       "      <td>21.021</td>\n",
       "      <td>3.043</td>\n",
       "      <td>215.0</td>\n",
       "      <td>5.00</td>\n",
       "      <td>1 pat,  (1\" sq, 1/3\" high)</td>\n",
       "      <td>14.2</td>\n",
       "      <td>1 tbsp</td>\n",
       "      <td>0.0</td>\n",
       "    </tr>\n",
       "    <tr>\n",
       "      <th>1002</th>\n",
       "      <td>BUTTER,WHIPPED,W/ SALT</td>\n",
       "      <td>16.72</td>\n",
       "      <td>718</td>\n",
       "      <td>0.49</td>\n",
       "      <td>78.30</td>\n",
       "      <td>1.62</td>\n",
       "      <td>2.87</td>\n",
       "      <td>0.0</td>\n",
       "      <td>0.06</td>\n",
       "      <td>23.0</td>\n",
       "      <td>...</td>\n",
       "      <td>4.6</td>\n",
       "      <td>45.390</td>\n",
       "      <td>19.874</td>\n",
       "      <td>3.331</td>\n",
       "      <td>225.0</td>\n",
       "      <td>3.80</td>\n",
       "      <td>1 pat,  (1\" sq, 1/3\" high)</td>\n",
       "      <td>9.4</td>\n",
       "      <td>1 tbsp</td>\n",
       "      <td>0.0</td>\n",
       "    </tr>\n",
       "    <tr>\n",
       "      <th>1003</th>\n",
       "      <td>BUTTER OIL,ANHYDROUS</td>\n",
       "      <td>0.24</td>\n",
       "      <td>876</td>\n",
       "      <td>0.28</td>\n",
       "      <td>99.48</td>\n",
       "      <td>0.00</td>\n",
       "      <td>0.00</td>\n",
       "      <td>0.0</td>\n",
       "      <td>0.00</td>\n",
       "      <td>4.0</td>\n",
       "      <td>...</td>\n",
       "      <td>8.6</td>\n",
       "      <td>61.924</td>\n",
       "      <td>28.732</td>\n",
       "      <td>3.694</td>\n",
       "      <td>256.0</td>\n",
       "      <td>12.80</td>\n",
       "      <td>1 tbsp</td>\n",
       "      <td>205.0</td>\n",
       "      <td>1 cup</td>\n",
       "      <td>0.0</td>\n",
       "    </tr>\n",
       "    <tr>\n",
       "      <th>1004</th>\n",
       "      <td>CHEESE,BLUE</td>\n",
       "      <td>42.41</td>\n",
       "      <td>353</td>\n",
       "      <td>21.40</td>\n",
       "      <td>28.74</td>\n",
       "      <td>5.11</td>\n",
       "      <td>2.34</td>\n",
       "      <td>0.0</td>\n",
       "      <td>0.50</td>\n",
       "      <td>528.0</td>\n",
       "      <td>...</td>\n",
       "      <td>2.4</td>\n",
       "      <td>18.669</td>\n",
       "      <td>7.778</td>\n",
       "      <td>0.800</td>\n",
       "      <td>75.0</td>\n",
       "      <td>28.35</td>\n",
       "      <td>1 oz</td>\n",
       "      <td>17.0</td>\n",
       "      <td>1 cubic inch</td>\n",
       "      <td>0.0</td>\n",
       "    </tr>\n",
       "    <tr>\n",
       "      <th>1005</th>\n",
       "      <td>CHEESE,BRICK</td>\n",
       "      <td>41.11</td>\n",
       "      <td>371</td>\n",
       "      <td>23.24</td>\n",
       "      <td>29.68</td>\n",
       "      <td>3.18</td>\n",
       "      <td>2.79</td>\n",
       "      <td>0.0</td>\n",
       "      <td>0.51</td>\n",
       "      <td>674.0</td>\n",
       "      <td>...</td>\n",
       "      <td>2.5</td>\n",
       "      <td>18.764</td>\n",
       "      <td>8.598</td>\n",
       "      <td>0.784</td>\n",
       "      <td>94.0</td>\n",
       "      <td>132.00</td>\n",
       "      <td>1 cup, diced</td>\n",
       "      <td>113.0</td>\n",
       "      <td>1 cup, shredded</td>\n",
       "      <td>0.0</td>\n",
       "    </tr>\n",
       "  </tbody>\n",
       "</table>\n",
       "<p>5 rows × 52 columns</p>\n",
       "</div>"
      ],
      "text/plain": [
       "                     Shrt_Desc  Water_(g)  Energ_Kcal  Protein_(g)  \\\n",
       "NDB_No                                                               \n",
       "1001          BUTTER,WITH SALT      15.87         717         0.85   \n",
       "1002    BUTTER,WHIPPED,W/ SALT      16.72         718         0.49   \n",
       "1003      BUTTER OIL,ANHYDROUS       0.24         876         0.28   \n",
       "1004               CHEESE,BLUE      42.41         353        21.40   \n",
       "1005              CHEESE,BRICK      41.11         371        23.24   \n",
       "\n",
       "        Lipid_Tot_(g)  Ash_(g)  Carbohydrt_(g)  Fiber_TD_(g)  Sugar_Tot_(g)  \\\n",
       "NDB_No                                                                        \n",
       "1001            81.11     2.11            0.06           0.0           0.06   \n",
       "1002            78.30     1.62            2.87           0.0           0.06   \n",
       "1003            99.48     0.00            0.00           0.0           0.00   \n",
       "1004            28.74     5.11            2.34           0.0           0.50   \n",
       "1005            29.68     3.18            2.79           0.0           0.51   \n",
       "\n",
       "        Calcium_(mg)     ...      Vit_K_(µg)  FA_Sat_(g)  FA_Mono_(g)  \\\n",
       "NDB_No                   ...                                            \n",
       "1001            24.0     ...             7.0      51.368       21.021   \n",
       "1002            23.0     ...             4.6      45.390       19.874   \n",
       "1003             4.0     ...             8.6      61.924       28.732   \n",
       "1004           528.0     ...             2.4      18.669        7.778   \n",
       "1005           674.0     ...             2.5      18.764        8.598   \n",
       "\n",
       "        FA_Poly_(g)  Cholestrl_(mg)  GmWt_1                  GmWt_Desc1  \\\n",
       "NDB_No                                                                    \n",
       "1001          3.043           215.0    5.00  1 pat,  (1\" sq, 1/3\" high)   \n",
       "1002          3.331           225.0    3.80  1 pat,  (1\" sq, 1/3\" high)   \n",
       "1003          3.694           256.0   12.80                      1 tbsp   \n",
       "1004          0.800            75.0   28.35                        1 oz   \n",
       "1005          0.784            94.0  132.00                1 cup, diced   \n",
       "\n",
       "        GmWt_2       GmWt_Desc2  Refuse_Pct  \n",
       "NDB_No                                       \n",
       "1001      14.2           1 tbsp         0.0  \n",
       "1002       9.4           1 tbsp         0.0  \n",
       "1003     205.0            1 cup         0.0  \n",
       "1004      17.0     1 cubic inch         0.0  \n",
       "1005     113.0  1 cup, shredded         0.0  \n",
       "\n",
       "[5 rows x 52 columns]"
      ]
     },
     "execution_count": 3,
     "metadata": {},
     "output_type": "execute_result"
    }
   ],
   "source": [
    "foods = pd.read_excel('USDA_Foods.xlsx', index_col = 0)\n",
    "foods.head()"
   ]
  },
  {
   "cell_type": "markdown",
   "metadata": {},
   "source": [
    "## Gathering important columns into groups"
   ]
  },
  {
   "cell_type": "code",
   "execution_count": 4,
   "metadata": {},
   "outputs": [
    {
     "name": "stdout",
     "output_type": "stream",
     "text": [
      "Index(['Shrt_Desc', 'Water_(g)', 'Energ_Kcal', 'Protein_(g)', 'Lipid_Tot_(g)',\n",
      "       'Ash_(g)', 'Carbohydrt_(g)', 'Fiber_TD_(g)', 'Sugar_Tot_(g)',\n",
      "       'Calcium_(mg)', 'Iron_(mg)', 'Magnesium_(mg)', 'Phosphorus_(mg)',\n",
      "       'Potassium_(mg)', 'Sodium_(mg)', 'Zinc_(mg)', 'Copper_mg)',\n",
      "       'Manganese_(mg)', 'Selenium_(µg)', 'Vit_C_(mg)', 'Thiamin_(mg)',\n",
      "       'Riboflavin_(mg)', 'Niacin_(mg)', 'Panto_Acid_mg)', 'Vit_B6_(mg)',\n",
      "       'Folate_Tot_(µg)', 'Folic_Acid_(µg)', 'Food_Folate_(µg)',\n",
      "       'Folate_DFE_(µg)', 'Choline_Tot_ (mg)', 'Vit_B12_(µg)', 'Vit_A_IU',\n",
      "       'Vit_A_RAE', 'Retinol_(µg)', 'Alpha_Carot_(µg)', 'Beta_Carot_(µg)',\n",
      "       'Beta_Crypt_(µg)', 'Lycopene_(µg)', 'Lut+Zea_ (µg)', 'Vit_E_(mg)',\n",
      "       'Vit_D_µg', 'Vit_D_IU', 'Vit_K_(µg)', 'FA_Sat_(g)', 'FA_Mono_(g)',\n",
      "       'FA_Poly_(g)', 'Cholestrl_(mg)', 'GmWt_1', 'GmWt_Desc1', 'GmWt_2',\n",
      "       'GmWt_Desc2', 'Refuse_Pct', 'group', 'manufacturer'],\n",
      "      dtype='object')\n",
      "NDB_No\n",
      "1001                                   NaN\n",
      "1008                Dairy and Egg Products\n",
      "1025                      Spices and Herbs\n",
      "2050                         Fats and Oils\n",
      "3008                            Baby Foods\n",
      "3073            Soups, Sauces, and Gravies\n",
      "3712           Sausages and Luncheon Meats\n",
      "5008                      Poultry Products\n",
      "8001                     Breakfast Cereals\n",
      "9001               Fruits and Fruit Juices\n",
      "10000                        Pork Products\n",
      "11001    Vegetables and Vegetable Products\n",
      "12001                Nut and Seed Products\n",
      "13000                        Beef Products\n",
      "14003                            Beverages\n",
      "15001       Finfish and Shellfish Products\n",
      "16001          Legumes and Legume Products\n",
      "17001        Lamb, Veal, and Game Products\n",
      "18001                       Baked Products\n",
      "19002                               Snacks\n",
      "19013                               Sweets\n",
      "20001              Cereal Grains and Pasta\n",
      "21002                           Fast Foods\n",
      "22247       Meals, Entrees, and Sidedishes\n",
      "35001                         Ethnic Foods\n",
      "36000                     Restaurant Foods\n",
      "Name: group, dtype: object\n"
     ]
    }
   ],
   "source": [
    "main_df = foods.join(df_groups, 'NDB_No')\n",
    "main_df.head()\n",
    "columns = main_df.columns\n",
    "groups = main_df['group'].drop_duplicates()\n",
    "nutritions_columns = ['Water_(g)', 'Energ_Kcal', 'Protein_(g)', 'Lipid_Tot_(g)',\n",
    "       'Ash_(g)', 'Carbohydrt_(g)', 'Fiber_TD_(g)', 'Sugar_Tot_(g)',\n",
    "       'Calcium_(mg)', 'Iron_(mg)', 'Magnesium_(mg)', 'Phosphorus_(mg)',\n",
    "       'Potassium_(mg)', 'Sodium_(mg)', 'Zinc_(mg)', 'Copper_mg)',\n",
    "       'Manganese_(mg)', 'Selenium_(µg)', 'Vit_C_(mg)', 'Thiamin_(mg)',\n",
    "       'Riboflavin_(mg)', 'Niacin_(mg)', 'Panto_Acid_mg)', 'Vit_B6_(mg)',\n",
    "       'Folate_Tot_(µg)', 'Folic_Acid_(µg)', 'Food_Folate_(µg)',\n",
    "       'Folate_DFE_(µg)', 'Choline_Tot_ (mg)', 'Vit_B12_(µg)', 'Vit_A_IU',\n",
    "       'Vit_A_RAE', 'Retinol_(µg)', 'Alpha_Carot_(µg)', 'Beta_Carot_(µg)',\n",
    "       'Beta_Crypt_(µg)', 'Lycopene_(µg)', 'Lut+Zea_ (µg)', 'Vit_E_(mg)',\n",
    "       'Vit_D_µg', 'Vit_D_IU', 'Vit_K_(µg)', 'FA_Sat_(g)', 'FA_Mono_(g)',\n",
    "       'FA_Poly_(g)', 'Cholestrl_(mg)']\n",
    "g = ['Water_(g)','Protein_(g)', 'Lipid_Tot_(g)',\n",
    "       'Ash_(g)', 'Carbohydrt_(g)', 'Fiber_TD_(g)', 'Sugar_Tot_(g)','FA_Sat_(g)', 'FA_Mono_(g)',\n",
    "       'FA_Poly_(g)']\n",
    "mg = ['Calcium_(mg)', 'Iron_(mg)', 'Magnesium_(mg)', 'Phosphorus_(mg)',\n",
    "       'Potassium_(mg)', 'Sodium_(mg)', 'Zinc_(mg)', 'Copper_mg)',\n",
    "       'Manganese_(mg)', 'Vit_C_(mg)', 'Thiamin_(mg)',\n",
    "       'Riboflavin_(mg)', 'Niacin_(mg)', 'Panto_Acid_mg)', 'Vit_B6_(mg)','Choline_Tot_ (mg)','Vit_E_(mg)','Cholestrl_(mg)']\n",
    "ug = ['Folate_Tot_(µg)', 'Folic_Acid_(µg)', 'Food_Folate_(µg)',\n",
    "       'Folate_DFE_(µg)','Vit_K_(µg)', 'Vit_D_µg', 'Vit_D_IU', 'Vit_B12_(µg)', 'Vit_A_IU',\n",
    "       'Vit_A_RAE', 'Retinol_(µg)', 'Alpha_Carot_(µg)', 'Beta_Carot_(µg)',\n",
    "       'Beta_Crypt_(µg)', 'Lycopene_(µg)', 'Lut+Zea_ (µg)','Selenium_(µg)']\n",
    "print(columns)\n",
    "print(groups)"
   ]
  },
  {
   "cell_type": "markdown",
   "metadata": {},
   "source": [
    "# Cleaning non values data\n",
    "Replacing all NaN with 'unknown'"
   ]
  },
  {
   "cell_type": "code",
   "execution_count": 5,
   "metadata": {
    "scrolled": true
   },
   "outputs": [
    {
     "name": "stdout",
     "output_type": "stream",
     "text": [
      "              Shrt_Desc  Water_(g)  Energ_Kcal  Protein_(g)  Lipid_Tot_(g)  \\\n",
      "NDB_No                                                                       \n",
      "1008     CHEESE,CARAWAY      39.28         376        25.18          29.20   \n",
      "1009     CHEESE,CHEDDAR      37.02         404        22.87          33.31   \n",
      "1018        CHEESE,EDAM      41.56         357        24.99          27.80   \n",
      "1019        CHEESE,FETA      55.22         264        14.21          21.28   \n",
      "1025    CHEESE,MONTEREY      41.01         373        24.48          30.28   \n",
      "\n",
      "        Ash_(g)  Carbohydrt_(g)  Fiber_TD_(g)  Sugar_Tot_(g)  Calcium_(mg)  \\\n",
      "NDB_No                                                                       \n",
      "1008       3.28            3.06           0.0            NaN         673.0   \n",
      "1009       3.71            3.09           0.0           0.48         710.0   \n",
      "1018       4.22            1.43           0.0           1.43         731.0   \n",
      "1019       5.20            4.09           0.0           4.09         493.0   \n",
      "1025       3.55            0.68           0.0           0.50         746.0   \n",
      "\n",
      "            ...       FA_Mono_(g)  FA_Poly_(g)  Cholestrl_(mg)  GmWt_1  \\\n",
      "NDB_No      ...                                                          \n",
      "1008        ...             8.275        0.830            93.0   28.35   \n",
      "1009        ...             9.246        1.421            99.0  132.00   \n",
      "1018        ...             8.125        0.665            89.0   28.35   \n",
      "1019        ...             4.623        0.591            89.0  150.00   \n",
      "1025        ...             8.751        0.899            89.0  132.00   \n",
      "\n",
      "             GmWt_Desc1  GmWt_2          GmWt_Desc2  Refuse_Pct  \\\n",
      "NDB_No                                                            \n",
      "1008               1 oz     NaN                 NaN         0.0   \n",
      "1009       1 cup, diced  244.00       1 cup, melted         0.0   \n",
      "1018               1 oz  198.00  1 package,  (7 oz)         0.0   \n",
      "1019    1 cup, crumbled   28.35                1 oz         0.0   \n",
      "1025       1 cup, diced  113.00     1 cup, shredded         0.0   \n",
      "\n",
      "                         group  manufacturer  \n",
      "NDB_No                                        \n",
      "1008    Dairy and Egg Products                \n",
      "1009    Dairy and Egg Products                \n",
      "1018    Dairy and Egg Products                \n",
      "1019    Dairy and Egg Products                \n",
      "1025          Spices and Herbs                \n",
      "\n",
      "[5 rows x 54 columns]\n"
     ]
    }
   ],
   "source": [
    "main_df.dropna(subset = ['group'], inplace = True)\n",
    "main_df.manufacturer.fillna('unknown', inplace = True)\n",
    "print(main_df.head())"
   ]
  },
  {
   "cell_type": "markdown",
   "metadata": {},
   "source": [
    "## Standarized nutritions data "
   ]
  },
  {
   "cell_type": "code",
   "execution_count": 6,
   "metadata": {},
   "outputs": [],
   "source": [
    "def change_column_values(org_df, dst_df,col_name, multiplier):\n",
    "    dst_df[col_name]= org_df[col_name] * multiplier\n",
    "    \n",
    "    \n",
    "standard_df = main_df.copy()\n",
    "for col in g:\n",
    "    change_column_values(main_df,standard_df,col, 1000)\n",
    "for col in ug:\n",
    "    change_column_values(main_df,standard_df,col, 0.001)\n",
    "\n",
    "    "
   ]
  },
  {
   "cell_type": "markdown",
   "metadata": {},
   "source": [
    "## Show top values by given nutrient group and quantity"
   ]
  },
  {
   "cell_type": "code",
   "execution_count": 25,
   "metadata": {},
   "outputs": [
    {
     "data": {
      "image/png": "[encoded data removed]",
      "text/plain": [
       "<Figure size 864x432 with 1 Axes>"
      ]
     },
     "metadata": {
      "needs_background": "light"
     },
     "output_type": "display_data"
    }
   ],
   "source": [
    "def nutrient_in_group(name, quant):\n",
    "    group_type = standard_df['group'] == name\n",
    "    nut_df = standard_df[group_type][nutritions_columns].sum().sort_values().head(quant)\n",
    "    x = nut_df.index.tolist()\n",
    "    y = nut_df.values.tolist()\n",
    "    plt.figure(figsize=(12,6))\n",
    "    plt.bar(x= x, height= y) \n",
    "    plt.show()\n",
    "    \n",
    "nutrient_in_group('Dairy and Egg Products', 7)"
   ]
  },
  {
   "cell_type": "markdown",
   "metadata": {},
   "source": [
    "## Analysing top 7 manufacturer according to water amount in processed foods"
   ]
  },
  {
   "cell_type": "code",
   "execution_count": 8,
   "metadata": {},
   "outputs": [
    {
     "data": {
      "text/plain": [
       "<matplotlib.axes._subplots.AxesSubplot at 0x1f7e23f1c88>"
      ]
     },
     "execution_count": 8,
     "metadata": {},
     "output_type": "execute_result"
    },
    {
     "data": {
      "image/png": "[encoded data removed]",
      "text/plain": [
       "<Figure size 432x288 with 1 Axes>"
      ]
     },
     "metadata": {
      "needs_background": "light"
     },
     "output_type": "display_data"
    }
   ],
   "source": [
    "\n",
    "manufacturer_count = main_df.groupby('manufacturer').count().sort_values( 'Water_(g)',ascending= False)\n",
    "manufacturer_count = manufacturer_count.drop(index = 'unknown')\n",
    "manufacturer_count.head(7).plot(y= 'Water_(g)', kind='bar', legend = False)\n",
    "\n",
    "\n"
   ]
  },
  {
   "cell_type": "markdown",
   "metadata": {},
   "source": [
    "## Filling missing manufacturer data with unknown values\n"
   ]
  },
  {
   "cell_type": "code",
   "execution_count": 9,
   "metadata": {},
   "outputs": [],
   "source": [
    "main_df.manufacturer.replace({'': 'unknown'}, inplace = True)\n"
   ]
  },
  {
   "cell_type": "markdown",
   "metadata": {},
   "source": [
    "# Counting number of products per manufacturer"
   ]
  },
  {
   "cell_type": "code",
   "execution_count": 10,
   "metadata": {},
   "outputs": [
    {
     "name": "stdout",
     "output_type": "stream",
     "text": [
      "unknown                                 5322\n",
      "Campbell Soup Co.                        182\n",
      "Kellogg, Co.                             138\n",
      "McDonald's Corporation                    60\n",
      "The Quaker Oats, Co.                      52\n",
      "General Mills Inc.                        42\n",
      "Masterfoods USA                           38\n",
      "Hershey Food Corp.                        32\n",
      "WhiteWave Foods Company                   28\n",
      "Kentucky Fried Chicken                    22\n",
      "Good Humor - Breyers Ice Cream            22\n",
      "Malt-O-Meal, Co.                          19\n",
      "Kraft Foods, Inc.                         19\n",
      "Archway Cookies                           17\n",
      "Nestle USA, Inc.                          16\n",
      "Burger King Corporation                   15\n",
      "Popeyes Chicken and Biscuits              13\n",
      "Pizza Hut, Inc.                           12\n",
      "Taco Bell Corp.                           11\n",
      "Wendy's International, Inc.               11\n",
      "Pillsbury Co.                              7\n",
      "T.G.I Friday's                             6\n",
      "Domino's Pizza, LLC                        6\n",
      "Denny's                                    6\n",
      "Little Caesar's Pizza                      6\n",
      "Applebee's                                 6\n",
      "Ralston Foods                              6\n",
      "Cracker Barrel                             6\n",
      "The Coca-Cola Company                      6\n",
      "Worthington Foods, Inc.                    5\n",
      "                                        ... \n",
      "Hormel Foods Corp.                         2\n",
      "George weston Bakeries, Inc.               2\n",
      "Keebler, Co.                               2\n",
      "Homestat Farm Ltd.                         2\n",
      "H.J. Heinz, Co.                            2\n",
      "Red Bull North America/Red Bull GmbH       2\n",
      "The J.M. Smucker Co.                       2\n",
      "Slim-Fast Foods Company                    1\n",
      "Albertson's Inc.                           1\n",
      "Smart Balance Foods                        1\n",
      "Vitasoy USA                                1\n",
      "The Dannon Company, Inc.                   1\n",
      "Lipton                                     1\n",
      "Arizona Beverage Co.                       1\n",
      "Pepsi-Cola North America                   1\n",
      "NAYA Inc.                                  1\n",
      "McNeil Nutritionals/McNeil_PPC, Inc.       1\n",
      "S.A. Evian Co.                             1\n",
      "Mead Johnson                               1\n",
      "Interstate Bakeries Corporation            1\n",
      "Continental Mills, Inc.                    1\n",
      "LUNA BAR                                   1\n",
      "Crystal Geyser Alpine Spring Water         1\n",
      "McKee Baking, Co.                          1\n",
      "Dow AgroSciences, LLC                      1\n",
      "ConAgra, Inc.                              1\n",
      "Rockstar, Inc.                             1\n",
      "Merisant Company                           1\n",
      "ADM KAO LLC                                1\n",
      "McNeil Nutritionals, LLC                   1\n",
      "Name: manufacturer, Length: 66, dtype: int64\n"
     ]
    }
   ],
   "source": [
    "\n",
    "print(main_df.manufacturer.value_counts())\n"
   ]
  },
  {
   "cell_type": "markdown",
   "metadata": {},
   "source": [
    "## Creating a function that shows top 3 manufacturer for a given nutrient value"
   ]
  },
  {
   "cell_type": "code",
   "execution_count": 11,
   "metadata": {},
   "outputs": [
    {
     "data": {
      "text/plain": [
       "manufacturer\n",
       "LUNA BAR                  20.750000\n",
       "Kentucky Fried Chicken    20.226364\n",
       "Hormel Foods Corp.        19.860000\n",
       "Name: Protein_(g), dtype: float64"
      ]
     },
     "execution_count": 11,
     "metadata": {},
     "output_type": "execute_result"
    }
   ],
   "source": [
    "\n",
    "def nutritiont_manufacturer(nutriont):\n",
    "    manu_df = main_df.groupby('manufacturer')\n",
    "    mean_nut = manu_df[nutriont].mean()\n",
    "    mean_nut = mean_nut.drop(index = 'unknown')\n",
    "    return mean_nut.sort_values(ascending = False).head(3)\n",
    "\n",
    "nutritiont_manufacturer('Protein_(g)')\n"
   ]
  },
  {
   "cell_type": "markdown",
   "metadata": {},
   "source": [
    "## Finding which vitamin has the maximum amount accros all vitamins"
   ]
  },
  {
   "cell_type": "code",
   "execution_count": 12,
   "metadata": {},
   "outputs": [
    {
     "name": "stdout",
     "output_type": "stream",
     "text": [
      "                                                                Name  \\\n",
      "Vit_C_(mg)         BEVERAGES,ORANGE-FLAVOR DRK,BRKFST TYPE,LO CAL...   \n",
      "Thiamin_(mg)                                    YEAST EXTRACT SPREAD   \n",
      "Riboflavin_(mg)                                 YEAST EXTRACT SPREAD   \n",
      "Niacin_(mg)                                     YEAST EXTRACT SPREAD   \n",
      "Panto_Acid_mg)     CEREALS RTE,KELLOGG,KELLOGG'S ALL-BRAN COMPLET...   \n",
      "Vit_B6_(mg)          CEREALS RTE,KELLOGG,KELLOGG'S ALL-BRAN ORIGINAL   \n",
      "Folate_Tot_(µg)                                 YEAST EXTRACT SPREAD   \n",
      "Folic_Acid_(µg)                                 YEAST EXTRACT SPREAD   \n",
      "Food_Folate_(µg)           LEAVENING AGENTS,YEAST,BAKER'S,ACTIVE DRY   \n",
      "Folate_DFE_(µg)                                 YEAST EXTRACT SPREAD   \n",
      "Choline_Tot_ (mg)      BEEF,VAR MEATS&BY-PRODUCTS,KIDNEYS,CKD,SIMMRD   \n",
      "Vit_B12_(µg)                              CLAM,MXD SP,CKD,MOIST HEAT   \n",
      "Vit_A_IU                                          FISH OIL,COD LIVER   \n",
      "Vit_A_RAE                                         FISH OIL,COD LIVER   \n",
      "Retinol_(µg)                                      FISH OIL,COD LIVER   \n",
      "Alpha_Carot_(µg)                                   CARROT,DEHYDRATED   \n",
      "Beta_Carot_(µg)                         PEPPERS,SWT,RED,FREEZE-DRIED   \n",
      "Beta_Crypt_(µg)                                              PAPRIKA   \n",
      "Lycopene_(µg)                                          TOMATO POWDER   \n",
      "Lut+Zea_ (µg)                          KALE,FRZ,CKD,BLD,DRND,WO/SALT   \n",
      "Vit_E_(mg)                                            OIL,WHEAT GERM   \n",
      "Vit_D_µg                                          FISH OIL,COD LIVER   \n",
      "Vit_D_IU                                          FISH OIL,COD LIVER   \n",
      "Vit_K_(µg)                                               SAGE,GROUND   \n",
      "\n",
      "                    Max Value  \n",
      "Vit_C_(mg)           2400.000  \n",
      "Thiamin_(mg)           23.375  \n",
      "Riboflavin_(mg)        17.500  \n",
      "Niacin_(mg)           127.500  \n",
      "Panto_Acid_mg)         34.500  \n",
      "Vit_B6_(mg)            12.000  \n",
      "Folate_Tot_(µg)      3786.000  \n",
      "Folic_Acid_(µg)      2993.000  \n",
      "Food_Folate_(µg)     2340.000  \n",
      "Folate_DFE_(µg)      5881.000  \n",
      "Choline_Tot_ (mg)     513.200  \n",
      "Vit_B12_(µg)           98.890  \n",
      "Vit_A_IU           100000.000  \n",
      "Vit_A_RAE           30000.000  \n",
      "Retinol_(µg)        30000.000  \n",
      "Alpha_Carot_(µg)    14251.000  \n",
      "Beta_Carot_(µg)     42891.000  \n",
      "Beta_Crypt_(µg)      6186.000  \n",
      "Lycopene_(µg)       46260.000  \n",
      "Lut+Zea_ (µg)       19697.000  \n",
      "Vit_E_(mg)            149.400  \n",
      "Vit_D_µg              250.000  \n",
      "Vit_D_IU            10000.000  \n",
      "Vit_K_(µg)           1714.500  \n"
     ]
    }
   ],
   "source": [
    "vitamins = ['Vit_C_(mg)', 'Thiamin_(mg)', 'Riboflavin_(mg)', 'Niacin_(mg)', 'Panto_Acid_mg)', 'Vit_B6_(mg)','Folate_Tot_(µg)', \n",
    "            'Folic_Acid_(µg)', 'Food_Folate_(µg)', 'Folate_DFE_(µg)', 'Choline_Tot_ (mg)', 'Vit_B12_(µg)', 'Vit_A_IU', \n",
    "            'Vit_A_RAE', 'Retinol_(µg)', 'Alpha_Carot_(µg)', 'Beta_Carot_(µg)', 'Beta_Crypt_(µg)', 'Lycopene_(µg)', \n",
    "            'Lut+Zea_ (µg)', 'Vit_E_(mg)', 'Vit_D_µg', 'Vit_D_IU', 'Vit_K_(µg)']\n",
    "print(pd.concat([main_df[vitamins].idxmax().apply(lambda x: main_df.loc[x]['Shrt_Desc']), main_df[vitamins].max()], axis=1, keys=['Name', 'Max Value'])\n",
    "\n",
    ")\n",
    "      "
   ]
  },
  {
   "cell_type": "markdown",
   "metadata": {},
   "source": [
    "## For each group finding the foods that have lowest calories count"
   ]
  },
  {
   "cell_type": "code",
   "execution_count": 13,
   "metadata": {},
   "outputs": [
    {
     "name": "stdout",
     "output_type": "stream",
     "text": [
      "                                                Shrt_Desc  \\\n",
      "NDB_No                                                      \n",
      "43075   FLUID REPLCMNT,ELECTROLYTE SOLN (INCLUDE PEDIA...   \n",
      "18372                        LEAVENING AGENTS,BAKING SODA   \n",
      "13341                BEEF,VAR MEATS&BY-PRODUCTS,TRIPE,RAW   \n",
      "14121                            BEVERAGES,CARB,CLUB SODA   \n",
      "8236              CEREALS,QKR,OAT BRAN,PREP W/H2O,NO SALT   \n",
      "20034                                     OAT BRAN,COOKED   \n",
      "1085    MILK,NONFAT,FLUID,W/ ADDED VIT A & VIT D (FAT ...   \n",
      "35078   TEA,TUNDRA,HERB & LABORADOR COMBINATION (ALASK...   \n",
      "21379                               MCDONALD'S,SIDE SALAD   \n",
      "43019                                SALAD DRSNG,SWT&SOUR   \n",
      "15162                                 CLAM,MXD SP,CND,LIQ   \n",
      "9153                      LEMON JUC FROM CONC,CND OR BTLD   \n",
      "17207                VEAL,VAR MEATS&BY-PRODUCTS,LUNGS,RAW   \n",
      "16230   SOYMILK (ALL FLAVORS),NONFAT,W/ ADDED CA,VITAM...   \n",
      "22931         CAMPBELL'S,SPAGHETTIOS,SPAGHETTIOS ORIGINAL   \n",
      "12119                     COCONUT H2O (LIQ FROM COCONUTS)   \n",
      "10112           PORK,FRSH,VAR MEATS&BY-PRODUCTS,LUNGS,RAW   \n",
      "5286                              TURKEY AND GRAVY,FROZEN   \n",
      "36414                        RESTAURANT,LATINO,TRIPE SOUP   \n",
      "7933       CHICKEN BREAST  OVEN-ROASTED  FAT-FREE  SLICED   \n",
      "19445   SNACKS,POTATO CHIPS,FRM DRIED POTATOES,FAT-FRE...   \n",
      "6480         SOUP,CHICK BROTH OR BOUILLON,DRY,PREP W/ H2O   \n",
      "2068                                     VINEGAR,RED WINE   \n",
      "42063                                       PECTIN,LIQUID   \n",
      "11108                                    BUTTERBUR,CANNED   \n",
      "\n",
      "                                    group  Energ_Kcal  \n",
      "NDB_No                                                 \n",
      "43075                          Baby Foods          10  \n",
      "18372                      Baked Products           0  \n",
      "13341                       Beef Products          85  \n",
      "14121                           Beverages           0  \n",
      "8236                    Breakfast Cereals          43  \n",
      "20034             Cereal Grains and Pasta          40  \n",
      "1085               Dairy and Egg Products          34  \n",
      "35078                        Ethnic Foods           1  \n",
      "21379                          Fast Foods          20  \n",
      "43019                       Fats and Oils          15  \n",
      "15162      Finfish and Shellfish Products           2  \n",
      "9153              Fruits and Fruit Juices          17  \n",
      "17207       Lamb, Veal, and Game Products          90  \n",
      "16230         Legumes and Legume Products          28  \n",
      "22931      Meals, Entrees, and Sidedishes          67  \n",
      "12119               Nut and Seed Products          19  \n",
      "10112                       Pork Products          85  \n",
      "5286                     Poultry Products          67  \n",
      "36414                    Restaurant Foods          74  \n",
      "7933          Sausages and Luncheon Meats          79  \n",
      "19445                              Snacks         253  \n",
      "6480           Soups, Sauces, and Gravies           4  \n",
      "2068                     Spices and Herbs          19  \n",
      "42063                              Sweets          11  \n",
      "11108   Vegetables and Vegetable Products           3  \n"
     ]
    }
   ],
   "source": [
    "print(main_df.loc[main_df.groupby('group')['Energ_Kcal'].idxmin()][['Shrt_Desc','group','Energ_Kcal']])"
   ]
  },
  {
   "cell_type": "markdown",
   "metadata": {},
   "source": [
    "## Show sum of a given nutrient for each group and selecting the groups that has the lowest values for that nutrient"
   ]
  },
  {
   "cell_type": "code",
   "execution_count": 14,
   "metadata": {},
   "outputs": [
    {
     "data": {
      "image/png": "[encoded data removed]",
      "text/plain": [
       "<Figure size 432x288 with 1 Axes>"
      ]
     },
     "metadata": {
      "needs_background": "light"
     },
     "output_type": "display_data"
    }
   ],
   "source": [
    "def nutrient_in_group(name, quant):\n",
    "    (main_df.groupby('group')[name].sum()).sort_values().head(quant).plot(kind='bar')\n",
    "nutrient_in_group('Vit_C_(mg)',7)\n",
    "    \n",
    "    "
   ]
  }
 ],
 "metadata": {
  "kernelspec": {
   "display_name": "Python 3",
   "language": "python",
   "name": "python3"
  },
  "language_info": {
   "codemirror_mode": {
    "name": "ipython",
    "version": 3
   },
   "file_extension": ".py",
   "mimetype": "text/x-python",
   "name": "python",
   "nbconvert_exporter": "python",
   "pygments_lexer": "ipython3",
   "version": "3.7.0"
  }
 },
 "nbformat": 4,
 "nbformat_minor": 2
}
